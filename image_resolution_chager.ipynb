{
 "cells": [
  {
   "cell_type": "code",
   "execution_count": null,
   "metadata": {},
   "outputs": [],
   "source": [
    "#import cv2\n",
    "import os\n",
    "import glob\n",
    "from PIL import Image\n",
    "import PIL\n",
    "\n"
   ]
  },
  {
   "cell_type": "code",
   "execution_count": null,
   "metadata": {},
   "outputs": [],
   "source": [
    "#point to my directory\n",
    "path = r'C:\\Users\\pedro\\IE Students\\Term 3 - Data Dynamos - Documents\\General\\Deep Learning\\group_project\\training_pictures\\originals\\cars'\n",
    "path2 = r'C:\\Users\\pedro\\IE Students\\Term 3 - Data Dynamos - Documents\\General\\Deep Learning\\group_project\\training_pictures\\scaled'\n",
    "\n",
    "\n",
    "#gain permission to access the directory\n",
    "os.chdir(path)\n",
    "\n",
    "\n",
    "\n",
    "#list all the files in the directory\n",
    "files = os.listdir(path)\n",
    "\n",
    "#loop through the files and change the resolution saving the new file in the same directory with a new name\n",
    "for file in files:\n",
    "    img = Image.open(path + '\\\\' + file)\n",
    "    img = img.resize((416,416), Image.ANTIALIAS)\n",
    "    img.save(path2 + '\\\\' + file + '_416x416.jpg')\n",
    "\n",
    "#check the new resolution\n",
    "img = Image.open(path2 + '\\\\' + file + '_416x416.jpg')\n",
    "img.size\n",
    "\n"
   ]
  },
  {
   "cell_type": "code",
   "execution_count": null,
   "metadata": {},
   "outputs": [],
   "source": [
    "files"
   ]
  },
  {
   "cell_type": "code",
   "execution_count": null,
   "metadata": {},
   "outputs": [],
   "source": []
  }
 ],
 "metadata": {
  "kernelspec": {
   "display_name": "Python 3",
   "language": "python",
   "name": "python3"
  },
  "language_info": {
   "codemirror_mode": {
    "name": "ipython",
    "version": 3
   },
   "file_extension": ".py",
   "mimetype": "text/x-python",
   "name": "python",
   "nbconvert_exporter": "python",
   "pygments_lexer": "ipython3",
   "version": "3.10.10"
  },
  "orig_nbformat": 4
 },
 "nbformat": 4,
 "nbformat_minor": 2
}
